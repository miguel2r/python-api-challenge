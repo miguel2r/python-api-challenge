{
 "cells": [
  {
   "cell_type": "markdown",
   "metadata": {},
   "source": [
    "# WeatherPy\n",
    "----\n",
    "\n",
    "#### Note\n",
    "* Instructions have been included for each segment. You do not have to follow them exactly, but they are included to help you think through the steps."
   ]
  },
  {
   "cell_type": "code",
   "execution_count": 3,
   "metadata": {
    "scrolled": false
   },
   "outputs": [],
   "source": [
    "# Dependencies and Setup\n",
    "import matplotlib.pyplot as plt\n",
    "import pandas as pd\n",
    "import numpy as np\n",
    "import requests\n",
    "import time\n",
    "import json\n",
    "import julian\n",
    "import datetime\n",
    "\n",
    "from scipy.stats import linregress\n",
    "\n",
    "# Import API key\n",
    "from api_keys import weather_api_key\n",
    "\n",
    "# Incorporated citipy to determine city based on latitude and longitude\n",
    "from citipy import citipy\n",
    "\n",
    "# Output File (CSV)\n",
    "output_data_file = \"cities.csv\"\n",
    "\n",
    "# Range of latitudes and longitudes\n",
    "lat_range = (-90, 90)\n",
    "lng_range = (-180, 180)\n"
   ]
  },
  {
   "cell_type": "markdown",
   "metadata": {},
   "source": [
    "## Generate Cities List"
   ]
  },
  {
   "cell_type": "code",
   "execution_count": 4,
   "metadata": {},
   "outputs": [
    {
     "data": {
      "text/plain": [
       "613"
      ]
     },
     "execution_count": 4,
     "metadata": {},
     "output_type": "execute_result"
    }
   ],
   "source": [
    "# List for holding lat_lngs and cities\n",
    "lat_lngs = []\n",
    "cities = []\n",
    "\n",
    "# Create a set of random lat and lng combinations\n",
    "lats = np.random.uniform(low=-90.000, high=90.000, size=1500)\n",
    "lngs = np.random.uniform(low=-180.000, high=180.000, size=1500)\n",
    "lat_lngs = zip(lats, lngs)\n",
    "\n",
    "# Identify nearest city for each lat, lng combination\n",
    "for lat_lng in lat_lngs:\n",
    "    city = citipy.nearest_city(lat_lng[0], lat_lng[1]).city_name\n",
    "    \n",
    "    # If the city is unique, then add it to a our cities list\n",
    "    if city not in cities:\n",
    "        cities.append(city)\n",
    "\n",
    "# Print the city count to confirm sufficient count\n",
    "len(cities)\n",
    "#cities\n"
   ]
  },
  {
   "cell_type": "markdown",
   "metadata": {},
   "source": [
    "### Perform API Calls\n",
    "* Perform a weather check on each city using a series of successive API calls.\n",
    "* Include a print log of each city as it'sbeing processed (with the city number and city name).\n"
   ]
  },
  {
   "cell_type": "code",
   "execution_count": 5,
   "metadata": {},
   "outputs": [
    {
     "name": "stdout",
     "output_type": "stream",
     "text": [
      "Beginning Data Retrieval\n",
      "-----------------------------\n",
      "Processing Record 1 barrow\n",
      "Processing Record 2 ushuaia\n",
      "Processing Record 3 kodiak\n",
      "Processing Record 4 nouadhibou\n",
      "Processing Record 5 gladstone\n",
      "Processing Record 6 punta arenas\n",
      "Processing Record 7 san patricio\n",
      "Processing Record 8 butaritari\n",
      "Processing Record 9 bluff\n",
      "Processing Record 10 comodoro rivadavia\n",
      "Processing Record 11 atuona\n",
      "Processing Record 12 mataura\n",
      "Processing Record 13 hobyo\n",
      "Processing Record 14 nanortalik\n",
      "Processing Record 15 dukat\n",
      "Processing Record 16 umm kaddadah\n",
      "Processing Record 17 palana\n",
      "City not found warqla\n",
      "Processing Record 18 port alfred\n",
      "Processing Record 19 dingle\n",
      "City not found barentsburg\n",
      "Processing Record 20 vaini\n",
      "Processing Record 21 mahebourg\n",
      "Processing Record 22 cape town\n",
      "City not found taolanaro\n",
      "Processing Record 23 tuktoyaktuk\n",
      "City not found phan rang\n",
      "City not found chagda\n",
      "Processing Record 24 vievis\n",
      "Processing Record 25 kendari\n",
      "Processing Record 26 rikitea\n",
      "Processing Record 27 luderitz\n",
      "Processing Record 28 meiktila\n",
      "Processing Record 29 kahului\n",
      "Processing Record 30 oxford\n",
      "Processing Record 31 fortuna\n",
      "Processing Record 32 komatsu\n",
      "Processing Record 33 faanui\n",
      "Processing Record 34 birjand\n",
      "Processing Record 35 coquimbo\n",
      "Processing Record 36 khatanga\n",
      "Processing Record 37 hithadhoo\n",
      "Processing Record 38 makakilo city\n",
      "Processing Record 39 avarua\n",
      "Processing Record 40 airai\n",
      "Processing Record 41 upernavik\n",
      "Processing Record 42 castro\n",
      "City not found grand river south east\n",
      "Processing Record 43 tam ky\n",
      "Processing Record 44 jamestown\n",
      "City not found paradwip\n",
      "Processing Record 45 new norfolk\n",
      "Processing Record 46 bredasdorp\n",
      "Processing Record 47 palmer\n",
      "Processing Record 48 ostrovnoy\n",
      "City not found vaitupu\n",
      "Processing Record 49 guaruja\n",
      "Processing Record 50 norman wells\n",
      "City not found attawapiskat\n",
      "Processing Record 51 ribeira grande\n",
      "Processing Record 52 puerto ayora\n",
      "Processing Record 53 sangar\n",
      "Processing Record 54 georgetown\n",
      "Processing Record 55 naryan-mar\n",
      "Processing Record 56 sabang\n",
      "Processing Record 57 codrington\n",
      "Processing Record 58 iqaluit\n",
      "Processing Record 59 olafsvik\n",
      "Processing Record 60 mogocha\n",
      "Processing Record 61 trelew\n",
      "Processing Record 62 arraial do cabo\n",
      "Processing Record 63 praia\n",
      "Processing Record 64 katsuura\n",
      "Processing Record 65 yellowknife\n",
      "Processing Record 66 albany\n",
      "Processing Record 67 ritchie\n",
      "Processing Record 68 uray\n",
      "Processing Record 69 kapaa\n",
      "Processing Record 70 hobart\n",
      "Processing Record 71 caruaru\n",
      "Processing Record 72 hilo\n",
      "Processing Record 73 oranjemund\n",
      "Processing Record 74 nikolskoye\n",
      "Processing Record 75 mutoko\n",
      "Processing Record 76 srednekolymsk\n",
      "Processing Record 77 dikson\n",
      "City not found obluche\n",
      "Processing Record 78 miyako\n",
      "City not found kazalinsk\n",
      "Processing Record 79 statesboro\n",
      "Processing Record 80 east london\n",
      "Processing Record 81 obo\n",
      "Processing Record 82 samarai\n",
      "Processing Record 83 pundaguitan\n",
      "Processing Record 84 saint george\n",
      "Processing Record 85 victor harbor\n",
      "Processing Record 86 lorengau\n",
      "Processing Record 87 sioux lookout\n",
      "Processing Record 88 mizan teferi\n",
      "Processing Record 89 itarema\n",
      "Processing Record 90 bergen\n",
      "Processing Record 91 udachnyy\n",
      "Processing Record 92 bose\n",
      "Processing Record 93 vila franca do campo\n",
      "City not found illoqqortoormiut\n",
      "Processing Record 94 lebu\n",
      "Processing Record 95 saskylakh\n",
      "City not found mouzakion\n",
      "Processing Record 96 hermanus\n",
      "Processing Record 97 amboasary\n",
      "Processing Record 98 provideniya\n",
      "Processing Record 99 tasiilaq\n",
      "Processing Record 100 tuyen quang\n",
      "Processing Record 101 xai-xai\n",
      "Processing Record 102 puerto carreno\n",
      "Processing Record 103 busselton\n",
      "Processing Record 104 port macquarie\n",
      "City not found meyungs\n",
      "Processing Record 105 bubaque\n",
      "Processing Record 106 sao filipe\n",
      "Processing Record 107 deolali\n",
      "Processing Record 108 padang\n",
      "Processing Record 109 carutapera\n",
      "Processing Record 110 namibe\n",
      "Processing Record 111 sao jose da coroa grande\n",
      "Processing Record 112 terrace\n",
      "Processing Record 113 pampas\n",
      "Processing Record 114 haines junction\n",
      "Processing Record 115 kigorobya\n",
      "Processing Record 116 saint-leu\n",
      "Processing Record 117 natal\n",
      "Processing Record 118 port lincoln\n",
      "Processing Record 119 narsaq\n",
      "Processing Record 120 mkokotoni\n",
      "Processing Record 121 ponta do sol\n",
      "Processing Record 122 radhanpur\n",
      "Processing Record 123 byron bay\n",
      "Processing Record 124 port elizabeth\n",
      "Processing Record 125 cidreira\n",
      "Processing Record 126 bandiagara\n",
      "Processing Record 127 paamiut\n",
      "City not found nizhneyansk\n",
      "Processing Record 128 tahe\n",
      "Processing Record 129 komsomolskiy\n",
      "Processing Record 130 ryotsu\n",
      "Processing Record 131 vestmannaeyjar\n",
      "Processing Record 132 tumut\n",
      "Processing Record 133 labuhan\n",
      "Processing Record 134 vardo\n",
      "Processing Record 135 bilma\n",
      "Processing Record 136 lavrentiya\n",
      "Processing Record 137 tonstad\n",
      "Processing Record 138 gallipoli\n",
      "Processing Record 139 leningradskiy\n",
      "Processing Record 140 havelock\n",
      "Processing Record 141 weyburn\n",
      "Processing Record 142 kavaratti\n",
      "Processing Record 143 severo-kurilsk\n",
      "City not found temaraia\n",
      "Processing Record 144 qaanaaq\n",
      "Processing Record 145 portland\n",
      "Processing Record 146 coxim\n",
      "City not found tasbuget\n",
      "Processing Record 147 vanavara\n",
      "Processing Record 148 jalu\n",
      "Processing Record 149 souillac\n",
      "Processing Record 150 amli\n",
      "Processing Record 151 yashkino\n",
      "Processing Record 152 nisia floresta\n",
      "Processing Record 153 kundiawa\n",
      "Processing Record 154 beringovskiy\n",
      "Processing Record 155 cabo san lucas\n",
      "Processing Record 156 ambilobe\n",
      "Processing Record 157 rio gallegos\n",
      "Processing Record 158 westport\n",
      "Processing Record 159 esperance\n",
      "Processing Record 160 hualmay\n",
      "Processing Record 161 randudongkal\n",
      "City not found sentyabrskiy\n",
      "Processing Record 162 pisco\n",
      "Processing Record 163 dakar\n",
      "Processing Record 164 cherskiy\n",
      "Processing Record 165 kodinar\n",
      "Processing Record 166 saint-francois\n",
      "Processing Record 167 touros\n",
      "Processing Record 168 lagoa\n",
      "Processing Record 169 zdvinsk\n",
      "Processing Record 170 danshui\n",
      "Processing Record 171 bambous virieux\n",
      "Processing Record 172 maldonado\n",
      "Processing Record 173 melfi\n",
      "Processing Record 174 bathsheba\n",
      "City not found amderma\n",
      "Processing Record 175 torbay\n",
      "Processing Record 176 lata\n",
      "Processing Record 177 vao\n",
      "Processing Record 178 viedma\n",
      "Processing Record 179 belogorsk\n",
      "Processing Record 180 nador\n",
      "Processing Record 181 el sauzal\n",
      "Processing Record 182 ust-kut\n",
      "Processing Record 183 husavik\n",
      "Processing Record 184 charleston\n",
      "Processing Record 185 sitka\n",
      "Processing Record 186 verkhnyaya sinyachikha\n",
      "Processing Record 187 serenje\n",
      "City not found umzimvubu\n",
      "Processing Record 188 vostok\n",
      "Processing Record 189 saldanha\n",
      "Processing Record 190 harper\n",
      "Processing Record 191 veraval\n",
      "Processing Record 192 jesup\n",
      "Processing Record 193 lazaro cardenas\n",
      "Processing Record 194 ndele\n",
      "Processing Record 195 magadan\n",
      "Processing Record 196 meadow lake\n",
      "Processing Record 197 longyearbyen\n",
      "Processing Record 198 shimoda\n",
      "Processing Record 199 siilinjarvi\n",
      "Processing Record 200 port blair\n",
      "Processing Record 201 thompson\n",
      "Processing Record 202 san policarpo\n",
      "Processing Record 203 outlook\n",
      "Processing Record 204 glebychevo\n",
      "Processing Record 205 bonfim\n",
      "Processing Record 206 santa rosa\n",
      "Processing Record 207 taonan\n",
      "Processing Record 208 khakhea\n",
      "Processing Record 209 beisfjord\n",
      "Processing Record 210 karpogory\n",
      "City not found tsihombe\n",
      "Processing Record 211 knysna\n",
      "Processing Record 212 mar del plata\n",
      "Processing Record 213 honningsvag\n",
      "Processing Record 214 erdenet\n",
      "Processing Record 215 saint-augustin\n",
      "Processing Record 216 muros\n",
      "Processing Record 217 brejo da madre de deus\n",
      "Processing Record 218 beian\n",
      "Processing Record 219 mecca\n",
      "Processing Record 220 talaya\n",
      "City not found buqayq\n",
      "Processing Record 221 tommot\n",
      "Processing Record 222 omsukchan\n",
      "Processing Record 223 kolno\n",
      "City not found toliary\n",
      "Processing Record 224 chapais\n",
      "Processing Record 225 bibiani\n",
      "Processing Record 226 muli\n",
      "Processing Record 227 fort nelson\n",
      "Processing Record 228 marsa matruh\n",
      "Processing Record 229 sao mateus\n",
      "Processing Record 230 mackay\n",
      "Processing Record 231 gunjur\n",
      "Processing Record 232 baykit\n",
      "Processing Record 233 moose factory\n",
      "Processing Record 234 longjiang\n",
      "Processing Record 235 la sarre\n",
      "Processing Record 236 caravelas\n",
      "Processing Record 237 hidas\n",
      "Processing Record 238 tiarei\n",
      "Processing Record 239 carnarvon\n",
      "Processing Record 240 saint-pierre\n",
      "Processing Record 241 jardim\n",
      "Processing Record 242 cayenne\n",
      "City not found mys shmidta\n",
      "Processing Record 243 port hedland\n"
     ]
    },
    {
     "name": "stdout",
     "output_type": "stream",
     "text": [
      "Processing Record 244 vaitape\n",
      "Processing Record 245 nizhniy tsasuchey\n",
      "Processing Record 246 los llanos de aridane\n",
      "Processing Record 247 dauphin\n",
      "Processing Record 248 geraldton\n",
      "Processing Record 249 berlevag\n",
      "Processing Record 250 chuy\n",
      "Processing Record 251 valera\n",
      "Processing Record 252 paramonga\n",
      "Processing Record 253 yarada\n",
      "Processing Record 254 mayo\n",
      "City not found tawkar\n",
      "Processing Record 255 iskateley\n",
      "Processing Record 256 bethel\n",
      "City not found dolbeau\n",
      "Processing Record 257 gouloure\n",
      "Processing Record 258 shiyan\n",
      "Processing Record 259 fairbanks\n",
      "Processing Record 260 agadir\n",
      "Processing Record 261 sterling\n",
      "Processing Record 262 darnah\n",
      "City not found belushya guba\n",
      "City not found bur gabo\n",
      "Processing Record 263 taoudenni\n",
      "Processing Record 264 san miguel\n",
      "Processing Record 265 luba\n",
      "Processing Record 266 tautira\n",
      "Processing Record 267 tiksi\n",
      "City not found sedelnikovo\n",
      "Processing Record 268 lincoln\n",
      "Processing Record 269 negombo\n",
      "Processing Record 270 colares\n",
      "Processing Record 271 high level\n",
      "Processing Record 272 sao joao da barra\n",
      "Processing Record 273 alofi\n",
      "Processing Record 274 raudeberg\n",
      "Processing Record 275 puro\n",
      "Processing Record 276 chokurdakh\n",
      "Processing Record 277 inuvik\n",
      "Processing Record 278 nsanje\n",
      "Processing Record 279 mangrol\n",
      "Processing Record 280 wadi musa\n",
      "Processing Record 281 road town\n",
      "Processing Record 282 creston\n",
      "Processing Record 283 banda aceh\n",
      "Processing Record 284 lipin bor\n",
      "Processing Record 285 baruun-urt\n",
      "Processing Record 286 sarangani\n",
      "City not found bacuit\n",
      "Processing Record 287 bandarbeyla\n",
      "Processing Record 288 rocha\n",
      "Processing Record 289 mandali\n",
      "Processing Record 290 yancheng\n",
      "Processing Record 291 mocuba\n",
      "Processing Record 292 xining\n",
      "Processing Record 293 selenginsk\n",
      "Processing Record 294 kajaani\n",
      "Processing Record 295 palora\n",
      "City not found bargal\n",
      "Processing Record 296 isangel\n",
      "Processing Record 297 kichera\n",
      "Processing Record 298 pemberton\n",
      "Processing Record 299 san pedro\n",
      "Processing Record 300 bengkulu\n",
      "Processing Record 301 lakeway\n",
      "Processing Record 302 san andres\n",
      "Processing Record 303 nieuwpoort\n",
      "Processing Record 304 salta\n",
      "Processing Record 305 mayskiy\n",
      "Processing Record 306 puerto colombia\n",
      "Processing Record 307 okha\n",
      "Processing Record 308 saint-philippe\n",
      "Processing Record 309 dong xoai\n",
      "Processing Record 310 tweed\n",
      "Processing Record 311 kavieng\n",
      "Processing Record 312 varzea da palma\n",
      "Processing Record 313 houma\n",
      "Processing Record 314 kaputa\n",
      "Processing Record 315 hofn\n",
      "Processing Record 316 ardesen\n",
      "Processing Record 317 chibombo\n",
      "Processing Record 318 sawtell\n",
      "Processing Record 319 oytal\n",
      "Processing Record 320 tilichiki\n",
      "Processing Record 321 grindavik\n",
      "Processing Record 322 santa luzia\n",
      "City not found azimur\n",
      "Processing Record 323 bilibino\n",
      "Processing Record 324 trujillo\n",
      "Processing Record 325 mackenzie\n",
      "Processing Record 326 voznesenskoye\n",
      "Processing Record 327 crotone\n",
      "Processing Record 328 soyo\n",
      "Processing Record 329 waseca\n",
      "Processing Record 330 biloela\n",
      "Processing Record 331 victoria\n",
      "Processing Record 332 iracoubo\n",
      "Processing Record 333 yashkul\n",
      "Processing Record 334 hasaki\n",
      "Processing Record 335 klaksvik\n",
      "Processing Record 336 nantucket\n",
      "Processing Record 337 brufut\n",
      "Processing Record 338 titisee-neustadt\n",
      "Processing Record 339 christchurch\n",
      "Processing Record 340 khani\n",
      "Processing Record 341 mount gambier\n",
      "Processing Record 342 yulara\n",
      "Processing Record 343 kyaukse\n",
      "Processing Record 344 balotra\n",
      "Processing Record 345 weston\n",
      "Processing Record 346 kerema\n",
      "Processing Record 347 hami\n",
      "Processing Record 348 mantua\n",
      "City not found huazolotitlan\n",
      "Processing Record 349 larsnes\n",
      "Processing Record 350 ustye\n",
      "Processing Record 351 poronaysk\n",
      "Processing Record 352 lerwick\n",
      "Processing Record 353 ancud\n",
      "Processing Record 354 livingston\n",
      "Processing Record 355 aniva\n",
      "Processing Record 356 america dourada\n",
      "Processing Record 357 collie\n",
      "Processing Record 358 neepawa\n",
      "Processing Record 359 novikovo\n",
      "Processing Record 360 reporoa\n",
      "Processing Record 361 waipawa\n",
      "Processing Record 362 maravatio\n",
      "City not found karamay\n",
      "Processing Record 363 alta\n",
      "Processing Record 364 pochutla\n",
      "Processing Record 365 guadalajara\n",
      "Processing Record 366 sola\n",
      "Processing Record 367 kimbe\n",
      "Processing Record 368 auki\n",
      "Processing Record 369 tomari\n",
      "Processing Record 370 santa rosalia\n",
      "Processing Record 371 tura\n",
      "Processing Record 372 cururupu\n",
      "Processing Record 373 lakes entrance\n",
      "Processing Record 374 kwinana\n",
      "Processing Record 375 sisimiut\n",
      "Processing Record 376 oia\n",
      "Processing Record 377 ukiah\n",
      "Processing Record 378 petropavlovsk-kamchatskiy\n",
      "Processing Record 379 sakaiminato\n",
      "Processing Record 380 tezu\n",
      "Processing Record 381 ozernovskiy\n",
      "Processing Record 382 aklavik\n",
      "Processing Record 383 brownsburg\n",
      "Processing Record 384 qaqortoq\n",
      "Processing Record 385 winburg\n",
      "Processing Record 386 varazze\n",
      "City not found saleaula\n",
      "Processing Record 387 allapalli\n",
      "Processing Record 388 chimore\n",
      "Processing Record 389 doha\n",
      "Processing Record 390 mehamn\n",
      "Processing Record 391 boueni\n",
      "Processing Record 392 zhigansk\n",
      "Processing Record 393 bahir dar\n",
      "Processing Record 394 eureka\n",
      "Processing Record 395 north adams\n",
      "Processing Record 396 port hawkesbury\n",
      "Processing Record 397 san cristobal\n",
      "Processing Record 398 freeport\n",
      "Processing Record 399 playas\n",
      "Processing Record 400 elk river\n",
      "Processing Record 401 tukrah\n",
      "Processing Record 402 ayapel\n",
      "Processing Record 403 outram\n",
      "Processing Record 404 sur\n",
      "Processing Record 405 lucapa\n",
      "Processing Record 406 kiama\n",
      "Processing Record 407 ouallam\n",
      "Processing Record 408 sovetskiy\n",
      "Processing Record 409 sagarejo\n",
      "Processing Record 410 roswell\n",
      "Processing Record 411 santa cruz del sur\n",
      "City not found galgani\n",
      "Processing Record 412 north bend\n",
      "Processing Record 413 kutum\n",
      "Processing Record 414 cangucu\n",
      "Processing Record 415 aksarka\n",
      "Processing Record 416 nuuk\n",
      "Processing Record 417 axim\n",
      "Processing Record 418 ust-karsk\n",
      "Processing Record 419 melfort\n",
      "Processing Record 420 jaumave\n",
      "Processing Record 421 chimay\n",
      "Processing Record 422 birao\n",
      "Processing Record 423 port augusta\n",
      "City not found bolungarvik\n",
      "Processing Record 424 bowen\n",
      "Processing Record 425 asyut\n",
      "Processing Record 426 kadipur\n",
      "Processing Record 427 hovd\n",
      "Processing Record 428 bayir\n",
      "Processing Record 429 hvide sande\n",
      "Processing Record 430 civitavecchia\n",
      "Processing Record 431 avera\n",
      "Processing Record 432 ishigaki\n",
      "Processing Record 433 dalbandin\n",
      "Processing Record 434 marawi\n",
      "Processing Record 435 kondinskoye\n",
      "Processing Record 436 kibala\n",
      "Processing Record 437 derzhavinsk\n",
      "Processing Record 438 state college\n",
      "Processing Record 439 matata\n",
      "Processing Record 440 meulaboh\n",
      "Processing Record 441 yenagoa\n",
      "Processing Record 442 naples\n",
      "Processing Record 443 vanimo\n",
      "Processing Record 444 camacha\n",
      "Processing Record 445 dunedin\n",
      "Processing Record 446 fukue\n",
      "Processing Record 447 puerto del rosario\n",
      "Processing Record 448 margate\n",
      "City not found samusu\n",
      "Processing Record 449 ilulissat\n",
      "Processing Record 450 oranjestad\n",
      "Processing Record 451 ahipara\n",
      "Processing Record 452 formosa do rio preto\n",
      "Processing Record 453 kruisfontein\n",
      "Processing Record 454 galesong\n",
      "Processing Record 455 melo\n",
      "Processing Record 456 huarmey\n",
      "Processing Record 457 rio cuarto\n",
      "Processing Record 458 broome\n",
      "Processing Record 459 hamilton\n",
      "Processing Record 460 lasa\n",
      "Processing Record 461 ballina\n",
      "City not found ruatoria\n",
      "Processing Record 462 chokwe\n",
      "Processing Record 463 roald\n",
      "Processing Record 464 abha\n",
      "City not found karaul\n",
      "Processing Record 465 buchanan\n",
      "Processing Record 466 bhander\n",
      "Processing Record 467 saint anthony\n",
      "Processing Record 468 anshun\n",
      "Processing Record 469 partizanskoye\n",
      "Processing Record 470 wanaka\n",
      "Processing Record 471 jacksonville\n",
      "City not found taburbah\n",
      "Processing Record 472 khandyga\n",
      "Processing Record 473 brae\n",
      "City not found andevoranto\n",
      "Processing Record 474 la ronge\n",
      "Processing Record 475 coron\n",
      "Processing Record 476 tuburan\n",
      "Processing Record 477 micheweni\n",
      "Processing Record 478 adrar\n",
      "Processing Record 479 rogatica\n",
      "Processing Record 480 xinqing\n",
      "Processing Record 481 yar-sale\n",
      "Processing Record 482 casablanca\n",
      "Processing Record 483 rawson\n",
      "Processing Record 484 kang\n",
      "Processing Record 485 kununurra\n",
      "Processing Record 486 porto tolle\n",
      "Processing Record 487 bayan\n",
      "Processing Record 488 pangoa\n",
      "Processing Record 489 moron\n",
      "Processing Record 490 pevek\n",
      "Processing Record 491 kanniyakumari\n",
      "Processing Record 492 bira\n",
      "Processing Record 493 neka\n",
      "Processing Record 494 changde\n",
      "Processing Record 495 shuiji\n"
     ]
    },
    {
     "name": "stdout",
     "output_type": "stream",
     "text": [
      "Processing Record 496 ixtapa\n",
      "Processing Record 497 carupano\n",
      "Processing Record 498 sucua\n",
      "Processing Record 499 chunoyar\n",
      "Processing Record 500 superior\n",
      "Processing Record 501 namie\n",
      "Processing Record 502 guarapari\n",
      "Processing Record 503 eagle pass\n",
      "Processing Record 504 cheremshan\n",
      "Processing Record 505 pacific grove\n",
      "Processing Record 506 alzamay\n",
      "Processing Record 507 eunice\n",
      "Processing Record 508 rybachiy\n",
      "Processing Record 509 itamaraju\n",
      "Processing Record 510 nhulunbuy\n",
      "Processing Record 511 iwanai\n",
      "City not found mudyuga\n",
      "Processing Record 512 changji\n",
      "Processing Record 513 piripiri\n",
      "City not found viligili\n",
      "Processing Record 514 lompoc\n",
      "Processing Record 515 pacifica\n",
      "Processing Record 516 coolum beach\n",
      "Processing Record 517 zambezi\n",
      "Processing Record 518 mao\n",
      "Processing Record 519 kerouane\n",
      "Processing Record 520 koutsouras\n",
      "Processing Record 521 solnechnyy\n",
      "Processing Record 522 sibolga\n",
      "Processing Record 523 tarko-sale\n",
      "Processing Record 524 songea\n",
      "Processing Record 525 port-gentil\n",
      "Processing Record 526 kosh-agach\n",
      "Processing Record 527 odienne\n",
      "Processing Record 528 ravar\n",
      "Processing Record 529 imeni poliny osipenko\n",
      "City not found palabuhanratu\n",
      "Processing Record 530 ashqelon\n",
      "Processing Record 531 homer\n",
      "Processing Record 532 talnakh\n",
      "Processing Record 533 kyra\n",
      "Processing Record 534 evora\n",
      "Processing Record 535 uyemskiy\n",
      "Processing Record 536 entre rios\n",
      "Processing Record 537 laguna\n",
      "Processing Record 538 northam\n",
      "Processing Record 539 mitla\n",
      "Processing Record 540 nanfeng\n",
      "City not found lolua\n",
      "Processing Record 541 constitucion\n",
      "Processing Record 542 kaitangata\n",
      "Processing Record 543 payo\n",
      "Processing Record 544 griffith\n",
      "Processing Record 545 biak\n",
      "Processing Record 546 tucurui\n",
      "Processing Record 547 grand gaube\n",
      "Processing Record 548 boca do acre\n",
      "Processing Record 549 escarcega\n",
      "Processing Record 550 moindou\n",
      "Processing Record 551 karakol\n",
      "Processing Record 552 yilan\n",
      "Processing Record 553 zugdidi\n",
      "City not found anthia\n",
      "Processing Record 554 nikko\n",
      "Processing Record 555 port keats\n",
      "Processing Record 556 huari\n",
      "Processing Record 557 besancon\n",
      "Processing Record 558 urengoy\n",
      "Processing Record 559 valdosta\n",
      "Processing Record 560 chapulco\n",
      "Processing Record 561 melenki\n",
      "City not found ngukurr\n",
      "Processing Record 562 omboue\n",
      "Processing Record 563 manta\n",
      "Processing Record 564 mekhe\n",
      "Processing Record 565 jacareacanga\n",
      "Ending Data Retrieval\n",
      "-----------------------------\n"
     ]
    },
    {
     "data": {
      "text/plain": [
       "'http://api.openweathermap.org/data/2.5/weather?appid=f157a4a871ff5091657e4bc43ea6bce8&q=jacareacanga'"
      ]
     },
     "execution_count": 5,
     "metadata": {},
     "output_type": "execute_result"
    }
   ],
   "source": [
    "# list of cities to query\n",
    "#v_cities = [\"London\", \"Spain\",\"Mexico\",\"Canada\",\"Japon\",\"France\"]\n",
    "#v_cities = [\"vanimo\",\"castro\",'ambodifototra', 'belushya guba']\n",
    "v_cities =cities\n",
    "\n",
    "\n",
    "\n",
    "# base url\n",
    "base_url = \"http://api.openweathermap.org/data/2.5/weather?\"\n",
    "\n",
    "# set up lists to hold response data for name and rating\n",
    "Cityv= []\n",
    "Cloudiness = []\n",
    "Countryv= []\n",
    "Datev=[]\n",
    "Humidity = []\n",
    "Latitude = []\n",
    "Longitude= []\n",
    "MaxTemp = []\n",
    "WindSpeed = []\n",
    "Datec=[]\n",
    "Mtemp=[]\n",
    "v_count=0\n",
    "\n",
    "# loop through openweathermap data , make requests and parse\n",
    "print ('Beginning Data Retrieval')    \n",
    "print  ('-----------------------------')\n",
    "for v_city in v_cities:\n",
    "    try:\n",
    "        target_url = base_url + \"appid=\" + weather_api_key + \"&q=\" + v_city\n",
    "        #print(target_url)\n",
    "        response = requests.get(target_url).json()\n",
    "        w_date =  response['dt']\n",
    "        w_mtemp=  response['main']['temp_max']\n",
    "        Cityv.append(response['name'])\n",
    "        Cloudiness.append(response['clouds']['all'])\n",
    "        Countryv.append(response['sys']['country'])\n",
    "        Datev.append(response['dt'])\n",
    "        Humidity.append(response['main']['humidity'])\n",
    "        Latitude.append(response['coord']['lat'])\n",
    "        Longitude.append(response['coord']['lon'])\n",
    "        MaxTemp.append(response['main']['temp_max'])\n",
    "        WindSpeed.append(response['wind']['speed']) \n",
    "        v_count =v_count + 1\n",
    "        z= datetime.datetime.fromtimestamp( w_date ).strftime('%Y-%m-%d')\n",
    "        Datec=z\n",
    "        mtf =((w_mtemp-273.15) *(9/5))+32\n",
    "        Mtemp=mtf \n",
    "        mtf=0\n",
    "    \n",
    "        print('Processing Record',v_count,v_city)\n",
    "    except:\n",
    "        print(\"City not found\",v_city)\n",
    "        pass\n",
    "    \n",
    "print ('Ending Data Retrieval')    \n",
    "print  ('-----------------------------')\n",
    "#target_url\n",
    "#response\n",
    "target_url"
   ]
  },
  {
   "cell_type": "code",
   "execution_count": 13,
   "metadata": {},
   "outputs": [
    {
     "data": {
      "text/html": [
       "<div>\n",
       "<style scoped>\n",
       "    .dataframe tbody tr th:only-of-type {\n",
       "        vertical-align: middle;\n",
       "    }\n",
       "\n",
       "    .dataframe tbody tr th {\n",
       "        vertical-align: top;\n",
       "    }\n",
       "\n",
       "    .dataframe thead th {\n",
       "        text-align: right;\n",
       "    }\n",
       "</style>\n",
       "<table border=\"1\" class=\"dataframe\">\n",
       "  <thead>\n",
       "    <tr style=\"text-align: right;\">\n",
       "      <th></th>\n",
       "      <th>Cityv</th>\n",
       "      <th>Cloudiness</th>\n",
       "      <th>Countryv</th>\n",
       "      <th>Datev</th>\n",
       "      <th>Humidity</th>\n",
       "      <th>Latitude</th>\n",
       "      <th>Longitude</th>\n",
       "      <th>MaxTemp</th>\n",
       "      <th>WindSpeed</th>\n",
       "      <th>StdDate</th>\n",
       "      <th>Mt_F</th>\n",
       "      <th>tmp_C</th>\n",
       "    </tr>\n",
       "  </thead>\n",
       "  <tbody>\n",
       "    <tr>\n",
       "      <td>0</td>\n",
       "      <td>Barrow</td>\n",
       "      <td>1</td>\n",
       "      <td>US</td>\n",
       "      <td>1585679678</td>\n",
       "      <td>70</td>\n",
       "      <td>71.29</td>\n",
       "      <td>-156.79</td>\n",
       "      <td>256.15</td>\n",
       "      <td>6.20</td>\n",
       "      <td>2020-03-31</td>\n",
       "      <td>89.384</td>\n",
       "      <td>-17.00</td>\n",
       "    </tr>\n",
       "    <tr>\n",
       "      <td>1</td>\n",
       "      <td>Ushuaia</td>\n",
       "      <td>75</td>\n",
       "      <td>AR</td>\n",
       "      <td>1585679965</td>\n",
       "      <td>71</td>\n",
       "      <td>-54.80</td>\n",
       "      <td>-68.30</td>\n",
       "      <td>284.15</td>\n",
       "      <td>7.20</td>\n",
       "      <td>2020-03-31</td>\n",
       "      <td>89.384</td>\n",
       "      <td>11.00</td>\n",
       "    </tr>\n",
       "    <tr>\n",
       "      <td>2</td>\n",
       "      <td>Saint Paul Harbor</td>\n",
       "      <td>1</td>\n",
       "      <td>US</td>\n",
       "      <td>1585679965</td>\n",
       "      <td>46</td>\n",
       "      <td>57.79</td>\n",
       "      <td>-152.41</td>\n",
       "      <td>271.15</td>\n",
       "      <td>2.05</td>\n",
       "      <td>2020-03-31</td>\n",
       "      <td>89.384</td>\n",
       "      <td>-2.00</td>\n",
       "    </tr>\n",
       "    <tr>\n",
       "      <td>3</td>\n",
       "      <td>Nouadhibou</td>\n",
       "      <td>100</td>\n",
       "      <td>MR</td>\n",
       "      <td>1585679917</td>\n",
       "      <td>56</td>\n",
       "      <td>20.93</td>\n",
       "      <td>-17.03</td>\n",
       "      <td>296.15</td>\n",
       "      <td>5.10</td>\n",
       "      <td>2020-03-31</td>\n",
       "      <td>89.384</td>\n",
       "      <td>23.00</td>\n",
       "    </tr>\n",
       "    <tr>\n",
       "      <td>4</td>\n",
       "      <td>Gladstone</td>\n",
       "      <td>0</td>\n",
       "      <td>AU</td>\n",
       "      <td>1585679966</td>\n",
       "      <td>88</td>\n",
       "      <td>-23.85</td>\n",
       "      <td>151.25</td>\n",
       "      <td>294.15</td>\n",
       "      <td>2.10</td>\n",
       "      <td>2020-03-31</td>\n",
       "      <td>89.384</td>\n",
       "      <td>21.00</td>\n",
       "    </tr>\n",
       "    <tr>\n",
       "      <td>...</td>\n",
       "      <td>...</td>\n",
       "      <td>...</td>\n",
       "      <td>...</td>\n",
       "      <td>...</td>\n",
       "      <td>...</td>\n",
       "      <td>...</td>\n",
       "      <td>...</td>\n",
       "      <td>...</td>\n",
       "      <td>...</td>\n",
       "      <td>...</td>\n",
       "      <td>...</td>\n",
       "      <td>...</td>\n",
       "    </tr>\n",
       "    <tr>\n",
       "      <td>560</td>\n",
       "      <td>Melenki</td>\n",
       "      <td>100</td>\n",
       "      <td>RU</td>\n",
       "      <td>1585680117</td>\n",
       "      <td>97</td>\n",
       "      <td>55.33</td>\n",
       "      <td>41.63</td>\n",
       "      <td>270.67</td>\n",
       "      <td>5.54</td>\n",
       "      <td>2020-03-31</td>\n",
       "      <td>89.384</td>\n",
       "      <td>-2.48</td>\n",
       "    </tr>\n",
       "    <tr>\n",
       "      <td>561</td>\n",
       "      <td>Omboué</td>\n",
       "      <td>48</td>\n",
       "      <td>GA</td>\n",
       "      <td>1585680118</td>\n",
       "      <td>83</td>\n",
       "      <td>-1.57</td>\n",
       "      <td>9.26</td>\n",
       "      <td>300.58</td>\n",
       "      <td>4.39</td>\n",
       "      <td>2020-03-31</td>\n",
       "      <td>89.384</td>\n",
       "      <td>27.43</td>\n",
       "    </tr>\n",
       "    <tr>\n",
       "      <td>562</td>\n",
       "      <td>Manta</td>\n",
       "      <td>20</td>\n",
       "      <td>EC</td>\n",
       "      <td>1585679962</td>\n",
       "      <td>66</td>\n",
       "      <td>-0.95</td>\n",
       "      <td>-80.73</td>\n",
       "      <td>302.15</td>\n",
       "      <td>4.10</td>\n",
       "      <td>2020-03-31</td>\n",
       "      <td>89.384</td>\n",
       "      <td>29.00</td>\n",
       "    </tr>\n",
       "    <tr>\n",
       "      <td>563</td>\n",
       "      <td>Mékhé</td>\n",
       "      <td>25</td>\n",
       "      <td>SN</td>\n",
       "      <td>1585680118</td>\n",
       "      <td>11</td>\n",
       "      <td>15.11</td>\n",
       "      <td>-16.62</td>\n",
       "      <td>316.15</td>\n",
       "      <td>1.00</td>\n",
       "      <td>2020-03-31</td>\n",
       "      <td>89.384</td>\n",
       "      <td>43.00</td>\n",
       "    </tr>\n",
       "    <tr>\n",
       "      <td>564</td>\n",
       "      <td>Jacareacanga</td>\n",
       "      <td>79</td>\n",
       "      <td>BR</td>\n",
       "      <td>1585680118</td>\n",
       "      <td>60</td>\n",
       "      <td>-6.22</td>\n",
       "      <td>-57.75</td>\n",
       "      <td>305.03</td>\n",
       "      <td>1.42</td>\n",
       "      <td>2020-03-31</td>\n",
       "      <td>89.384</td>\n",
       "      <td>31.88</td>\n",
       "    </tr>\n",
       "  </tbody>\n",
       "</table>\n",
       "<p>565 rows × 12 columns</p>\n",
       "</div>"
      ],
      "text/plain": [
       "                 Cityv  Cloudiness Countryv       Datev  Humidity  Latitude  \\\n",
       "0               Barrow           1       US  1585679678        70     71.29   \n",
       "1              Ushuaia          75       AR  1585679965        71    -54.80   \n",
       "2    Saint Paul Harbor           1       US  1585679965        46     57.79   \n",
       "3           Nouadhibou         100       MR  1585679917        56     20.93   \n",
       "4            Gladstone           0       AU  1585679966        88    -23.85   \n",
       "..                 ...         ...      ...         ...       ...       ...   \n",
       "560            Melenki         100       RU  1585680117        97     55.33   \n",
       "561             Omboué          48       GA  1585680118        83     -1.57   \n",
       "562              Manta          20       EC  1585679962        66     -0.95   \n",
       "563              Mékhé          25       SN  1585680118        11     15.11   \n",
       "564       Jacareacanga          79       BR  1585680118        60     -6.22   \n",
       "\n",
       "     Longitude  MaxTemp  WindSpeed     StdDate    Mt_F  tmp_C  \n",
       "0      -156.79   256.15       6.20  2020-03-31  89.384 -17.00  \n",
       "1       -68.30   284.15       7.20  2020-03-31  89.384  11.00  \n",
       "2      -152.41   271.15       2.05  2020-03-31  89.384  -2.00  \n",
       "3       -17.03   296.15       5.10  2020-03-31  89.384  23.00  \n",
       "4       151.25   294.15       2.10  2020-03-31  89.384  21.00  \n",
       "..         ...      ...        ...         ...     ...    ...  \n",
       "560      41.63   270.67       5.54  2020-03-31  89.384  -2.48  \n",
       "561       9.26   300.58       4.39  2020-03-31  89.384  27.43  \n",
       "562     -80.73   302.15       4.10  2020-03-31  89.384  29.00  \n",
       "563     -16.62   316.15       1.00  2020-03-31  89.384  43.00  \n",
       "564     -57.75   305.03       1.42  2020-03-31  89.384  31.88  \n",
       "\n",
       "[565 rows x 12 columns]"
      ]
     },
     "execution_count": 13,
     "metadata": {},
     "output_type": "execute_result"
    }
   ],
   "source": [
    "#creating a  dataframe  base on data retrieved\n",
    "v_city_df = pd.DataFrame({\n",
    "    \"Cityv\": Cityv,\n",
    "    \"Cloudiness\": Cloudiness,\n",
    "    \"Countryv\": Countryv,\n",
    "    \"Datev\": Datev,\n",
    "    \"Humidity\": Humidity,\n",
    "    \"Latitude\": Latitude,\n",
    "    \"Longitude\": Longitude,\n",
    "    \"MaxTemp\": MaxTemp,\n",
    "    \"Cloudiness\": Cloudiness,\n",
    "    \"WindSpeed\": WindSpeed,\n",
    "    \"StdDate\":Datec,\n",
    "    \"Mt_F\":Mtemp\n",
    "    \n",
    "})\n",
    "\n",
    "v_city_df\n",
    "# create a new column \n",
    "v_city_df['tmp_C'] = v_city_df['MaxTemp'] - 273.15 # (0.1 * v_city_df['Cost']) \n",
    "v_city_df"
   ]
  },
  {
   "cell_type": "code",
   "execution_count": 14,
   "metadata": {},
   "outputs": [
    {
     "data": {
      "text/plain": [
       "Cityv         565\n",
       "Cloudiness    565\n",
       "Countryv      565\n",
       "Datev         565\n",
       "Humidity      565\n",
       "Latitude      565\n",
       "Longitude     565\n",
       "MaxTemp       565\n",
       "WindSpeed     565\n",
       "StdDate       565\n",
       "Mt_F          565\n",
       "tmp_C         565\n",
       "dtype: int64"
      ]
     },
     "execution_count": 14,
     "metadata": {},
     "output_type": "execute_result"
    }
   ],
   "source": [
    "# display the df\n",
    "v_city_df.count()\n"
   ]
  },
  {
   "cell_type": "markdown",
   "metadata": {},
   "source": [
    "### Convert Raw Data to DataFrame\n",
    "* Export the city data into a .csv.\n",
    "* Display the DataFrame"
   ]
  },
  {
   "cell_type": "code",
   "execution_count": 16,
   "metadata": {},
   "outputs": [],
   "source": [
    "# Exporting df to csv\n",
    "v_city_df.to_csv (r'C:\\Users\\user\\Documents\\ITESM_DA\\python-api-challenge\\cities_df.csv', index = False, header=True)\n",
    "\n",
    "#print (v_city_df)"
   ]
  },
  {
   "cell_type": "markdown",
   "metadata": {},
   "source": [
    "### Plotting the Data\n",
    "* Use proper labeling of the plots using plot titles (including date of analysis) and axes labels.\n",
    "* Save the plotted figures as .pngs."
   ]
  },
  {
   "cell_type": "markdown",
   "metadata": {},
   "source": [
    "#### Latitude vs. Temperature Plot"
   ]
  },
  {
   "cell_type": "code",
   "execution_count": 39,
   "metadata": {
    "scrolled": true
   },
   "outputs": [
    {
     "data": {
      "image/png": "[encoded data removed]",
      "text/plain": [
       "<Figure size 432x288 with 1 Axes>"
      ]
     },
     "metadata": {
      "needs_background": "light"
     },
     "output_type": "display_data"
    }
   ],
   "source": [
    "# Draw a scatter plot\n",
    "v_city_df.plot.scatter(x='Latitude', y='tmp_C', title=\"City Latitud vs Max Temperature (C)\");\n",
    "plt.xlabel('Latitud')\n",
    "plt.ylabel('Max Temperature (C)')\n",
    "#plt.show(block=True);\n",
    "plt.savefig('LatvTemp.png.png')"
   ]
  },
  {
   "cell_type": "markdown",
   "metadata": {},
   "source": [
    "Our data set shows that there are more cities at north and less at south based on latitud data. Related to the correlation between latitud and temperature it is  confirmed that temperature increases  when the city is near to the ecuador (0) "
   ]
  },
  {
   "cell_type": "markdown",
   "metadata": {},
   "source": [
    "#### Latitude vs. Humidity Plot"
   ]
  },
  {
   "cell_type": "code",
   "execution_count": 41,
   "metadata": {},
   "outputs": [
    {
     "data": {
      "image/png": "[encoded data removed]",
      "text/plain": [
       "<Figure size 432x288 with 1 Axes>"
      ]
     },
     "metadata": {
      "needs_background": "light"
     },
     "output_type": "display_data"
    }
   ],
   "source": [
    "# Draw a scatter plot\n",
    "v_city_df.plot.scatter(x='Latitude', y='Humidity', title=\"Latitude vs. Humidity\");\n",
    "plt.xlabel('Latitud')\n",
    "plt.ylabel('Humidity')\n",
    "#plt.show(block=True);\n",
    "plt.savefig('LatvHum.png')"
   ]
  },
  {
   "cell_type": "code",
   "execution_count": null,
   "metadata": {},
   "outputs": [],
   "source": [
    "Cities humidity value is increasing when then city location (base on latitud) is far from  the Ecuador."
   ]
  },
  {
   "cell_type": "markdown",
   "metadata": {},
   "source": [
    "#### Latitude vs. Cloudiness Plot"
   ]
  },
  {
   "cell_type": "code",
   "execution_count": 44,
   "metadata": {},
   "outputs": [
    {
     "data": {
      "image/png": "[encoded data removed]",
      "text/plain": [
       "<Figure size 432x288 with 1 Axes>"
      ]
     },
     "metadata": {
      "needs_background": "light"
     },
     "output_type": "display_data"
    }
   ],
   "source": [
    "# Draw a scatter plot\n",
    "v_city_df.plot.scatter(x='Latitude', y='Cloudiness', title=\"Latitude vs. Cloudiness\");\n",
    "plt.xlabel('Latitud')\n",
    "plt.ylabel('Cloudiness')\n",
    "#plt.show(block=True);\n",
    "plt.savefig('LatvClo.png')"
   ]
  },
  {
   "cell_type": "code",
   "execution_count": null,
   "metadata": {},
   "outputs": [],
   "source": [
    "There is not a clear correlaion between latitud and Clondiness. North area got more Cloudiness"
   ]
  },
  {
   "cell_type": "markdown",
   "metadata": {},
   "source": [
    "#### Latitude vs. Wind Speed Plot"
   ]
  },
  {
   "cell_type": "code",
   "execution_count": 49,
   "metadata": {},
   "outputs": [
    {
     "data": {
      "image/png": "[encoded data removed]",
      "text/plain": [
       "<Figure size 432x288 with 1 Axes>"
      ]
     },
     "metadata": {
      "needs_background": "light"
     },
     "output_type": "display_data"
    },
    {
     "data": {
      "text/plain": [
       "<Figure size 432x288 with 0 Axes>"
      ]
     },
     "metadata": {},
     "output_type": "display_data"
    }
   ],
   "source": [
    "# Draw a scatter plot\n",
    "v_city_df.plot.scatter(x='Latitude', y='WindSpeed', title=\"Latitude vs.Wind Speed \");\n",
    "plt.xlabel('Latitud')\n",
    "plt.ylabel('Wind Speed')\n",
    "plt.show(block=True);\n",
    "plt.savefig('LatvWin.png')"
   ]
  },
  {
   "cell_type": "code",
   "execution_count": null,
   "metadata": {},
   "outputs": [],
   "source": [
    "The graphs shows that the Wind Speed stayed steady under 6 for this set of data"
   ]
  },
  {
   "cell_type": "markdown",
   "metadata": {},
   "source": [
    "Most cities  got wind speed/km  under 6 km/h within this set of data, Latitud from Ecuador does not affect the Wind speed."
   ]
  },
  {
   "cell_type": "markdown",
   "metadata": {},
   "source": [
    "## Linear Regression"
   ]
  },
  {
   "cell_type": "code",
   "execution_count": 60,
   "metadata": {},
   "outputs": [],
   "source": [
    "# OPTIONAL: Create a function to create Linear Regression plots\n",
    "# linear regression equation and line to plot\n",
    "def linfunction(ax,ay,xl,yl,ti,file_s):\n",
    "    x_values = ax\n",
    "    y_values = ay\n",
    "    (slope, intercept, rvalue, pvalue, stderr) = linregress(x_values, y_values)\n",
    "    regress_values = x_values * slope + intercept\n",
    "    line_eq = \"y = \" + str(round(slope,2)) + \"x + \" + str(round(intercept,2))\n",
    "    plt.scatter(x_values,y_values)\n",
    "    plt.plot(x_values,regress_values,\"r-\")\n",
    "   # plt.annotate(line_eq,(6,10),fontsize=15,color=\"red\")\n",
    "    plt.title(ti)\n",
    "    plt.xlabel(xl)\n",
    "    plt.ylabel(yl)\n",
    "    #plt.show()\n",
    "    plt.savefig(file_s)"
   ]
  },
  {
   "cell_type": "code",
   "execution_count": 61,
   "metadata": {},
   "outputs": [],
   "source": [
    "# Create Northern and Southern Hemisphere DataFrames\n",
    "\n",
    "Northern_df=v_city_df[(v_city_df['Latitude'] >=0 )]\n",
    "Southern_df=v_city_df[(v_city_df['Latitude'] <0 )]\n",
    "#v_Southern\n"
   ]
  },
  {
   "cell_type": "code",
   "execution_count": 67,
   "metadata": {},
   "outputs": [
    {
     "data": {
      "text/html": [
       "<div>\n",
       "<style scoped>\n",
       "    .dataframe tbody tr th:only-of-type {\n",
       "        vertical-align: middle;\n",
       "    }\n",
       "\n",
       "    .dataframe tbody tr th {\n",
       "        vertical-align: top;\n",
       "    }\n",
       "\n",
       "    .dataframe thead th {\n",
       "        text-align: right;\n",
       "    }\n",
       "</style>\n",
       "<table border=\"1\" class=\"dataframe\">\n",
       "  <thead>\n",
       "    <tr style=\"text-align: right;\">\n",
       "      <th></th>\n",
       "      <th>Cityv</th>\n",
       "      <th>Cloudiness</th>\n",
       "      <th>Countryv</th>\n",
       "      <th>Datev</th>\n",
       "      <th>Humidity</th>\n",
       "      <th>Latitude</th>\n",
       "      <th>Longitude</th>\n",
       "      <th>MaxTemp</th>\n",
       "      <th>WindSpeed</th>\n",
       "      <th>StdDate</th>\n",
       "      <th>Mt_F</th>\n",
       "      <th>tmp_C</th>\n",
       "    </tr>\n",
       "  </thead>\n",
       "  <tbody>\n",
       "    <tr>\n",
       "      <td>0</td>\n",
       "      <td>Barrow</td>\n",
       "      <td>1</td>\n",
       "      <td>US</td>\n",
       "      <td>1585679678</td>\n",
       "      <td>70</td>\n",
       "      <td>71.29</td>\n",
       "      <td>-156.79</td>\n",
       "      <td>256.15</td>\n",
       "      <td>6.20</td>\n",
       "      <td>2020-03-31</td>\n",
       "      <td>89.384</td>\n",
       "      <td>-17.00</td>\n",
       "    </tr>\n",
       "    <tr>\n",
       "      <td>2</td>\n",
       "      <td>Saint Paul Harbor</td>\n",
       "      <td>1</td>\n",
       "      <td>US</td>\n",
       "      <td>1585679965</td>\n",
       "      <td>46</td>\n",
       "      <td>57.79</td>\n",
       "      <td>-152.41</td>\n",
       "      <td>271.15</td>\n",
       "      <td>2.05</td>\n",
       "      <td>2020-03-31</td>\n",
       "      <td>89.384</td>\n",
       "      <td>-2.00</td>\n",
       "    </tr>\n",
       "    <tr>\n",
       "      <td>3</td>\n",
       "      <td>Nouadhibou</td>\n",
       "      <td>100</td>\n",
       "      <td>MR</td>\n",
       "      <td>1585679917</td>\n",
       "      <td>56</td>\n",
       "      <td>20.93</td>\n",
       "      <td>-17.03</td>\n",
       "      <td>296.15</td>\n",
       "      <td>5.10</td>\n",
       "      <td>2020-03-31</td>\n",
       "      <td>89.384</td>\n",
       "      <td>23.00</td>\n",
       "    </tr>\n",
       "    <tr>\n",
       "      <td>6</td>\n",
       "      <td>San Patricio</td>\n",
       "      <td>5</td>\n",
       "      <td>MX</td>\n",
       "      <td>1585679966</td>\n",
       "      <td>78</td>\n",
       "      <td>19.22</td>\n",
       "      <td>-104.70</td>\n",
       "      <td>301.15</td>\n",
       "      <td>3.10</td>\n",
       "      <td>2020-03-31</td>\n",
       "      <td>89.384</td>\n",
       "      <td>28.00</td>\n",
       "    </tr>\n",
       "    <tr>\n",
       "      <td>7</td>\n",
       "      <td>Butaritari</td>\n",
       "      <td>100</td>\n",
       "      <td>KI</td>\n",
       "      <td>1585679966</td>\n",
       "      <td>81</td>\n",
       "      <td>3.07</td>\n",
       "      <td>172.79</td>\n",
       "      <td>301.51</td>\n",
       "      <td>7.39</td>\n",
       "      <td>2020-03-31</td>\n",
       "      <td>89.384</td>\n",
       "      <td>28.36</td>\n",
       "    </tr>\n",
       "    <tr>\n",
       "      <td>...</td>\n",
       "      <td>...</td>\n",
       "      <td>...</td>\n",
       "      <td>...</td>\n",
       "      <td>...</td>\n",
       "      <td>...</td>\n",
       "      <td>...</td>\n",
       "      <td>...</td>\n",
       "      <td>...</td>\n",
       "      <td>...</td>\n",
       "      <td>...</td>\n",
       "      <td>...</td>\n",
       "      <td>...</td>\n",
       "    </tr>\n",
       "    <tr>\n",
       "      <td>557</td>\n",
       "      <td>Urengoy</td>\n",
       "      <td>0</td>\n",
       "      <td>RU</td>\n",
       "      <td>1585680116</td>\n",
       "      <td>94</td>\n",
       "      <td>65.97</td>\n",
       "      <td>78.37</td>\n",
       "      <td>260.40</td>\n",
       "      <td>4.41</td>\n",
       "      <td>2020-03-31</td>\n",
       "      <td>89.384</td>\n",
       "      <td>-12.75</td>\n",
       "    </tr>\n",
       "    <tr>\n",
       "      <td>558</td>\n",
       "      <td>Valdosta</td>\n",
       "      <td>75</td>\n",
       "      <td>US</td>\n",
       "      <td>1585680102</td>\n",
       "      <td>61</td>\n",
       "      <td>30.83</td>\n",
       "      <td>-83.28</td>\n",
       "      <td>301.15</td>\n",
       "      <td>10.30</td>\n",
       "      <td>2020-03-31</td>\n",
       "      <td>89.384</td>\n",
       "      <td>28.00</td>\n",
       "    </tr>\n",
       "    <tr>\n",
       "      <td>559</td>\n",
       "      <td>Chapulco</td>\n",
       "      <td>0</td>\n",
       "      <td>MX</td>\n",
       "      <td>1585680117</td>\n",
       "      <td>33</td>\n",
       "      <td>18.61</td>\n",
       "      <td>-97.42</td>\n",
       "      <td>299.82</td>\n",
       "      <td>2.24</td>\n",
       "      <td>2020-03-31</td>\n",
       "      <td>89.384</td>\n",
       "      <td>26.67</td>\n",
       "    </tr>\n",
       "    <tr>\n",
       "      <td>560</td>\n",
       "      <td>Melenki</td>\n",
       "      <td>100</td>\n",
       "      <td>RU</td>\n",
       "      <td>1585680117</td>\n",
       "      <td>97</td>\n",
       "      <td>55.33</td>\n",
       "      <td>41.63</td>\n",
       "      <td>270.67</td>\n",
       "      <td>5.54</td>\n",
       "      <td>2020-03-31</td>\n",
       "      <td>89.384</td>\n",
       "      <td>-2.48</td>\n",
       "    </tr>\n",
       "    <tr>\n",
       "      <td>563</td>\n",
       "      <td>Mékhé</td>\n",
       "      <td>25</td>\n",
       "      <td>SN</td>\n",
       "      <td>1585680118</td>\n",
       "      <td>11</td>\n",
       "      <td>15.11</td>\n",
       "      <td>-16.62</td>\n",
       "      <td>316.15</td>\n",
       "      <td>1.00</td>\n",
       "      <td>2020-03-31</td>\n",
       "      <td>89.384</td>\n",
       "      <td>43.00</td>\n",
       "    </tr>\n",
       "  </tbody>\n",
       "</table>\n",
       "<p>389 rows × 12 columns</p>\n",
       "</div>"
      ],
      "text/plain": [
       "                 Cityv  Cloudiness Countryv       Datev  Humidity  Latitude  \\\n",
       "0               Barrow           1       US  1585679678        70     71.29   \n",
       "2    Saint Paul Harbor           1       US  1585679965        46     57.79   \n",
       "3           Nouadhibou         100       MR  1585679917        56     20.93   \n",
       "6         San Patricio           5       MX  1585679966        78     19.22   \n",
       "7           Butaritari         100       KI  1585679966        81      3.07   \n",
       "..                 ...         ...      ...         ...       ...       ...   \n",
       "557            Urengoy           0       RU  1585680116        94     65.97   \n",
       "558           Valdosta          75       US  1585680102        61     30.83   \n",
       "559           Chapulco           0       MX  1585680117        33     18.61   \n",
       "560            Melenki         100       RU  1585680117        97     55.33   \n",
       "563              Mékhé          25       SN  1585680118        11     15.11   \n",
       "\n",
       "     Longitude  MaxTemp  WindSpeed     StdDate    Mt_F  tmp_C  \n",
       "0      -156.79   256.15       6.20  2020-03-31  89.384 -17.00  \n",
       "2      -152.41   271.15       2.05  2020-03-31  89.384  -2.00  \n",
       "3       -17.03   296.15       5.10  2020-03-31  89.384  23.00  \n",
       "6      -104.70   301.15       3.10  2020-03-31  89.384  28.00  \n",
       "7       172.79   301.51       7.39  2020-03-31  89.384  28.36  \n",
       "..         ...      ...        ...         ...     ...    ...  \n",
       "557      78.37   260.40       4.41  2020-03-31  89.384 -12.75  \n",
       "558     -83.28   301.15      10.30  2020-03-31  89.384  28.00  \n",
       "559     -97.42   299.82       2.24  2020-03-31  89.384  26.67  \n",
       "560      41.63   270.67       5.54  2020-03-31  89.384  -2.48  \n",
       "563     -16.62   316.15       1.00  2020-03-31  89.384  43.00  \n",
       "\n",
       "[389 rows x 12 columns]"
      ]
     },
     "execution_count": 67,
     "metadata": {},
     "output_type": "execute_result"
    }
   ],
   "source": [
    "\n",
    "# Exporting df to csv\n",
    "Northern_df.to_csv (r'C:\\Users\\user\\Documents\\ITESM_DA\\python-api-challenge\\norte.csv', index = False, header=True)\n",
    "Northern_df"
   ]
  },
  {
   "cell_type": "markdown",
   "metadata": {},
   "source": [
    "####  Northern Hemisphere - Max Temp vs. Latitude Linear Regression"
   ]
  },
  {
   "cell_type": "code",
   "execution_count": 95,
   "metadata": {},
   "outputs": [
    {
     "data": {
      "image/png": "[encoded data removed]",
      "text/plain": [
       "<Figure size 432x288 with 1 Axes>"
      ]
     },
     "metadata": {
      "needs_background": "light"
     },
     "output_type": "display_data"
    }
   ],
   "source": [
    "x1=Northern_df['tmp_C']\n",
    "y1=Northern_df['Latitude']\n",
    "ti='Northern Hemisphere - Max Temp vs. Latitude Linear Regression'\n",
    "xla='Latitud'\n",
    "yla='Max Temperature (C)'\n",
    "file_s ='RNMaxvLat.png'\n",
    "linfunction(x1,y1,xla,yla,ti,file_s)\n"
   ]
  },
  {
   "cell_type": "code",
   "execution_count": null,
   "metadata": {},
   "outputs": [],
   "source": [
    "The plot shows  that for each 10 grade there is an increase in the temperature by 10 grades. The increase is almost equal at\n",
    "Northern Hemisphere"
   ]
  },
  {
   "cell_type": "markdown",
   "metadata": {},
   "source": [
    "####  Southern Hemisphere - Max Temp vs. Latitude Linear Regression"
   ]
  },
  {
   "cell_type": "code",
   "execution_count": 77,
   "metadata": {},
   "outputs": [
    {
     "data": {
      "image/png": "[encoded data removed]",
      "text/plain": [
       "<Figure size 432x288 with 1 Axes>"
      ]
     },
     "metadata": {
      "needs_background": "light"
     },
     "output_type": "display_data"
    }
   ],
   "source": [
    "x1=Southern_df['tmp_C']\n",
    "y1=Southern_df['Latitude']\n",
    "ti='Southern Hemisphere - Max Temp vs. Latitude Linear Regression'\n",
    "xla='Latitud'\n",
    "yla='Max Temperature (C)'\n",
    "file_s ='RSNMaxvLat.png'\n",
    "linfunction(x1,y1,xla,yla,ti,file_s)"
   ]
  },
  {
   "cell_type": "code",
   "execution_count": null,
   "metadata": {},
   "outputs": [],
   "source": [
    "Temperature decreases by 10 g when we increa the latutud from Ecuador South"
   ]
  },
  {
   "cell_type": "markdown",
   "metadata": {},
   "source": [
    "####  Northern Hemisphere - Humidity (%) vs. Latitude Linear Regression"
   ]
  },
  {
   "cell_type": "code",
   "execution_count": 80,
   "metadata": {},
   "outputs": [
    {
     "data": {
      "image/png": "[encoded data removed]",
      "text/plain": [
       "<Figure size 432x288 with 1 Axes>"
      ]
     },
     "metadata": {
      "needs_background": "light"
     },
     "output_type": "display_data"
    }
   ],
   "source": [
    "x1=Northern_df['Humidity']\n",
    "y1=Northern_df['Latitude']\n",
    "ti='Northern Hemisphere - Humidity (%) vs. Latitude Linear Regression'\n",
    "xla='Latitud'\n",
    "yla='Humidity'\n",
    "file_s ='RSNHumvLat.png'\n",
    "linfunction(x1,y1,xla,yla,ti,file_s)"
   ]
  },
  {
   "cell_type": "markdown",
   "metadata": {},
   "source": [
    "There is a increase of humidily when the latitud increase. Above 60, latitud we got more cities with a higher humidity."
   ]
  },
  {
   "cell_type": "markdown",
   "metadata": {},
   "source": [
    "####  Southern Hemisphere - Humidity (%) vs. Latitude Linear Regression"
   ]
  },
  {
   "cell_type": "code",
   "execution_count": 83,
   "metadata": {},
   "outputs": [
    {
     "data": {
      "image/png": "[encoded data removed]",
      "text/plain": [
       "<Figure size 432x288 with 1 Axes>"
      ]
     },
     "metadata": {
      "needs_background": "light"
     },
     "output_type": "display_data"
    }
   ],
   "source": [
    "x1=Southern_df['Humidity']\n",
    "y1=Southern_df['Latitude']\n",
    "ti='Southern Hemisphere - Humidity (%) vs. Latitude Linear Regression'\n",
    "xla='Latitud'\n",
    "yla='Humidity (%)'\n",
    "file_s ='RSHumvLat.png'\n",
    "linfunction(x1,y1,xla,yla,ti,file_s)"
   ]
  },
  {
   "cell_type": "code",
   "execution_count": null,
   "metadata": {},
   "outputs": [],
   "source": [
    "There is a increase of humidily when the latitud increase. Above 60, latitud we got more cities with a higher humidity at \n",
    "Southern."
   ]
  },
  {
   "cell_type": "markdown",
   "metadata": {},
   "source": [
    "####  Northern Hemisphere - Cloudiness (%) vs. Latitude Linear Regression"
   ]
  },
  {
   "cell_type": "code",
   "execution_count": 85,
   "metadata": {},
   "outputs": [
    {
     "data": {
      "image/png": "[encoded data removed]",
      "text/plain": [
       "<Figure size 432x288 with 1 Axes>"
      ]
     },
     "metadata": {
      "needs_background": "light"
     },
     "output_type": "display_data"
    }
   ],
   "source": [
    "x1=Northern_df['Cloudiness']\n",
    "y1=Northern_df['Latitude']\n",
    "ti='Northern Hemisphere - Cloudiness (%) vs. Latitude Linear Regression'\n",
    "xla='Cloudiness'\n",
    "yla='Latitude'\n",
    "file_s ='RNClodvLat.png'\n",
    "linfunction(x1,y1,xla,yla,ti,file_s)"
   ]
  },
  {
   "cell_type": "code",
   "execution_count": null,
   "metadata": {},
   "outputs": [],
   "source": [
    "There is no a clear relation between latitud and Cloudiness"
   ]
  },
  {
   "cell_type": "markdown",
   "metadata": {},
   "source": [
    "####  Southern Hemisphere - Cloudiness (%) vs. Latitude Linear Regression"
   ]
  },
  {
   "cell_type": "code",
   "execution_count": 86,
   "metadata": {},
   "outputs": [
    {
     "data": {
      "image/png": "[encoded data removed]",
      "text/plain": [
       "<Figure size 432x288 with 1 Axes>"
      ]
     },
     "metadata": {
      "needs_background": "light"
     },
     "output_type": "display_data"
    }
   ],
   "source": [
    "x1=Southern_df['Cloudiness']\n",
    "y1=Southern_df['Latitude']\n",
    "ti='Southern Hemisphere - Cloudiness (%) vs. Latitude Linear Regression'\n",
    "xla='Latitude'\n",
    "yla='Cloudiness'\n",
    "file_s ='RSClodvLat.png'\n",
    "linfunction(x1,y1,xla,yla,ti,file_s)\n"
   ]
  },
  {
   "cell_type": "code",
   "execution_count": null,
   "metadata": {},
   "outputs": [],
   "source": [
    "There is no a clear relation between latitud and Cloudiness at Southern"
   ]
  },
  {
   "cell_type": "markdown",
   "metadata": {},
   "source": [
    "####  Northern Hemisphere - Wind Speed (mph) vs. Latitude Linear Regression"
   ]
  },
  {
   "cell_type": "code",
   "execution_count": 87,
   "metadata": {},
   "outputs": [
    {
     "data": {
      "image/png": "[encoded data removed]",
      "text/plain": [
       "<Figure size 432x288 with 1 Axes>"
      ]
     },
     "metadata": {
      "needs_background": "light"
     },
     "output_type": "display_data"
    }
   ],
   "source": [
    "x1=Northern_df['WindSpeed']\n",
    "y1=Northern_df['Latitude']\n",
    "ti='Northern Hemisphere - Wind Speed (mph) vs. Latitude Linear Regression'\n",
    "xla='Latitude'\n",
    "yla='WindSpeed'\n",
    "file_s ='RSCWindvLat.png'\n",
    "linfunction(x1,y1,xla,yla,ti,file_s)"
   ]
  },
  {
   "cell_type": "code",
   "execution_count": null,
   "metadata": {},
   "outputs": [],
   "source": [
    "Wind increases by 10 when we increase laitud by 2. Most of the cities their wind speed measure goes from 1- to 80 under 6 \n",
    "of latitud."
   ]
  },
  {
   "cell_type": "markdown",
   "metadata": {},
   "source": [
    "####  Southern Hemisphere - Wind Speed (mph) vs. Latitude Linear Regression"
   ]
  },
  {
   "cell_type": "code",
   "execution_count": 93,
   "metadata": {},
   "outputs": [
    {
     "data": {
      "image/png": "[encoded data removed]",
      "text/plain": [
       "<Figure size 432x288 with 1 Axes>"
      ]
     },
     "metadata": {
      "needs_background": "light"
     },
     "output_type": "display_data"
    }
   ],
   "source": [
    "y1=Southern_df['WindSpeed']\n",
    "x1=Southern_df['Latitude']\n",
    "ti='Southern Hemisphere - Wind Speed (mph) vs. Latitude Linear Regression'\n",
    "xla='WindSpeed'\n",
    "yla='Latitude'\n",
    "file_s ='RSS1WindvLat.png'\n",
    "linfunction(x1,y1,xla,yla,ti,file_s)"
   ]
  },
  {
   "cell_type": "code",
   "execution_count": null,
   "metadata": {},
   "outputs": [],
   "source": [
    "The graph shows that speed increases when the latitud by 2"
   ]
  }
 ],
 "metadata": {
  "anaconda-cloud": {},
  "kernel_info": {
   "name": "python3"
  },
  "kernelspec": {
   "display_name": "Python 3",
   "language": "python",
   "name": "python3"
  },
  "language_info": {
   "codemirror_mode": {
    "name": "ipython",
    "version": 3
   },
   "file_extension": ".py",
   "mimetype": "text/x-python",
   "name": "python",
   "nbconvert_exporter": "python",
   "pygments_lexer": "ipython3",
   "version": "3.7.4"
  },
  "latex_envs": {
   "LaTeX_envs_menu_present": true,
   "autoclose": false,
   "autocomplete": true,
   "bibliofile": "biblio.bib",
   "cite_by": "apalike",
   "current_citInitial": 1,
   "eqLabelWithNumbers": true,
   "eqNumInitial": 1,
   "hotkeys": {
    "equation": "Ctrl-E",
    "itemize": "Ctrl-I"
   },
   "labels_anchors": false,
   "latex_user_defs": false,
   "report_style_numbering": false,
   "user_envs_cfg": false
  },
  "nteract": {
   "version": "0.12.3"
  }
 },
 "nbformat": 4,
 "nbformat_minor": 2
}
